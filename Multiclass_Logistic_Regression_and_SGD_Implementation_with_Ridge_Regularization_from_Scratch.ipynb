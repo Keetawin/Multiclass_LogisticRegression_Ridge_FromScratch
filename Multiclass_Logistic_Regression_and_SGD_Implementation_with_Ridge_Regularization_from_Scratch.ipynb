{
  "nbformat": 4,
  "nbformat_minor": 0,
  "metadata": {
    "colab": {
      "provenance": [],
      "include_colab_link": true
    },
    "kernelspec": {
      "name": "python3",
      "display_name": "Python 3"
    },
    "language_info": {
      "name": "python"
    }
  },
  "cells": [
    {
      "cell_type": "markdown",
      "metadata": {
        "id": "view-in-github",
        "colab_type": "text"
      },
      "source": [
        "<a href=\"https://colab.research.google.com/github/Keetawin/Multiclass_LogisticRegression_Ridge_FromScratch/blob/main/Multiclass_Logistic_Regression_and_SGD_Implementation_with_Ridge_Regularization_from_Scratch.ipynb\" target=\"_parent\"><img src=\"https://colab.research.google.com/assets/colab-badge.svg\" alt=\"Open In Colab\"/></a>"
      ]
    },
    {
      "cell_type": "code",
      "execution_count": null,
      "metadata": {
        "id": "kovTSMWy18qk"
      },
      "outputs": [],
      "source": [
        "import pandas as pd\n",
        "import math\n",
        "import random\n",
        "import numpy as np\n",
        "import matplotlib.pyplot as plt\n",
        "import seaborn as sns"
      ]
    },
    {
      "cell_type": "code",
      "source": [
        "raw_csv_url = \"https://gist.githubusercontent.com/curran/a08a1080b88344b0c8a7/raw/0e7a9b0a5d22642a06d3d5b9bcbad9890c8ee534/iris.csv\"\n",
        "\n",
        "df = pd.read_csv(raw_csv_url)\n",
        "\n",
        "df"
      ],
      "metadata": {
        "colab": {
          "base_uri": "https://localhost:8080/",
          "height": 423
        },
        "id": "voxY7DO-2G7F",
        "outputId": "6d8b7620-e20e-4eb1-b4b8-1cb4ab594f21"
      },
      "execution_count": null,
      "outputs": [
        {
          "output_type": "execute_result",
          "data": {
            "text/plain": [
              "     sepal_length  sepal_width  petal_length  petal_width    species\n",
              "0             5.1          3.5           1.4          0.2     setosa\n",
              "1             4.9          3.0           1.4          0.2     setosa\n",
              "2             4.7          3.2           1.3          0.2     setosa\n",
              "3             4.6          3.1           1.5          0.2     setosa\n",
              "4             5.0          3.6           1.4          0.2     setosa\n",
              "..            ...          ...           ...          ...        ...\n",
              "145           6.7          3.0           5.2          2.3  virginica\n",
              "146           6.3          2.5           5.0          1.9  virginica\n",
              "147           6.5          3.0           5.2          2.0  virginica\n",
              "148           6.2          3.4           5.4          2.3  virginica\n",
              "149           5.9          3.0           5.1          1.8  virginica\n",
              "\n",
              "[150 rows x 5 columns]"
            ],
            "text/html": [
              "\n",
              "  <div id=\"df-23a6232b-8b10-43d6-9fd6-f258b89ef4de\" class=\"colab-df-container\">\n",
              "    <div>\n",
              "<style scoped>\n",
              "    .dataframe tbody tr th:only-of-type {\n",
              "        vertical-align: middle;\n",
              "    }\n",
              "\n",
              "    .dataframe tbody tr th {\n",
              "        vertical-align: top;\n",
              "    }\n",
              "\n",
              "    .dataframe thead th {\n",
              "        text-align: right;\n",
              "    }\n",
              "</style>\n",
              "<table border=\"1\" class=\"dataframe\">\n",
              "  <thead>\n",
              "    <tr style=\"text-align: right;\">\n",
              "      <th></th>\n",
              "      <th>sepal_length</th>\n",
              "      <th>sepal_width</th>\n",
              "      <th>petal_length</th>\n",
              "      <th>petal_width</th>\n",
              "      <th>species</th>\n",
              "    </tr>\n",
              "  </thead>\n",
              "  <tbody>\n",
              "    <tr>\n",
              "      <th>0</th>\n",
              "      <td>5.1</td>\n",
              "      <td>3.5</td>\n",
              "      <td>1.4</td>\n",
              "      <td>0.2</td>\n",
              "      <td>setosa</td>\n",
              "    </tr>\n",
              "    <tr>\n",
              "      <th>1</th>\n",
              "      <td>4.9</td>\n",
              "      <td>3.0</td>\n",
              "      <td>1.4</td>\n",
              "      <td>0.2</td>\n",
              "      <td>setosa</td>\n",
              "    </tr>\n",
              "    <tr>\n",
              "      <th>2</th>\n",
              "      <td>4.7</td>\n",
              "      <td>3.2</td>\n",
              "      <td>1.3</td>\n",
              "      <td>0.2</td>\n",
              "      <td>setosa</td>\n",
              "    </tr>\n",
              "    <tr>\n",
              "      <th>3</th>\n",
              "      <td>4.6</td>\n",
              "      <td>3.1</td>\n",
              "      <td>1.5</td>\n",
              "      <td>0.2</td>\n",
              "      <td>setosa</td>\n",
              "    </tr>\n",
              "    <tr>\n",
              "      <th>4</th>\n",
              "      <td>5.0</td>\n",
              "      <td>3.6</td>\n",
              "      <td>1.4</td>\n",
              "      <td>0.2</td>\n",
              "      <td>setosa</td>\n",
              "    </tr>\n",
              "    <tr>\n",
              "      <th>...</th>\n",
              "      <td>...</td>\n",
              "      <td>...</td>\n",
              "      <td>...</td>\n",
              "      <td>...</td>\n",
              "      <td>...</td>\n",
              "    </tr>\n",
              "    <tr>\n",
              "      <th>145</th>\n",
              "      <td>6.7</td>\n",
              "      <td>3.0</td>\n",
              "      <td>5.2</td>\n",
              "      <td>2.3</td>\n",
              "      <td>virginica</td>\n",
              "    </tr>\n",
              "    <tr>\n",
              "      <th>146</th>\n",
              "      <td>6.3</td>\n",
              "      <td>2.5</td>\n",
              "      <td>5.0</td>\n",
              "      <td>1.9</td>\n",
              "      <td>virginica</td>\n",
              "    </tr>\n",
              "    <tr>\n",
              "      <th>147</th>\n",
              "      <td>6.5</td>\n",
              "      <td>3.0</td>\n",
              "      <td>5.2</td>\n",
              "      <td>2.0</td>\n",
              "      <td>virginica</td>\n",
              "    </tr>\n",
              "    <tr>\n",
              "      <th>148</th>\n",
              "      <td>6.2</td>\n",
              "      <td>3.4</td>\n",
              "      <td>5.4</td>\n",
              "      <td>2.3</td>\n",
              "      <td>virginica</td>\n",
              "    </tr>\n",
              "    <tr>\n",
              "      <th>149</th>\n",
              "      <td>5.9</td>\n",
              "      <td>3.0</td>\n",
              "      <td>5.1</td>\n",
              "      <td>1.8</td>\n",
              "      <td>virginica</td>\n",
              "    </tr>\n",
              "  </tbody>\n",
              "</table>\n",
              "<p>150 rows × 5 columns</p>\n",
              "</div>\n",
              "    <div class=\"colab-df-buttons\">\n",
              "\n",
              "  <div class=\"colab-df-container\">\n",
              "    <button class=\"colab-df-convert\" onclick=\"convertToInteractive('df-23a6232b-8b10-43d6-9fd6-f258b89ef4de')\"\n",
              "            title=\"Convert this dataframe to an interactive table.\"\n",
              "            style=\"display:none;\">\n",
              "\n",
              "  <svg xmlns=\"http://www.w3.org/2000/svg\" height=\"24px\" viewBox=\"0 -960 960 960\">\n",
              "    <path d=\"M120-120v-720h720v720H120Zm60-500h600v-160H180v160Zm220 220h160v-160H400v160Zm0 220h160v-160H400v160ZM180-400h160v-160H180v160Zm440 0h160v-160H620v160ZM180-180h160v-160H180v160Zm440 0h160v-160H620v160Z\"/>\n",
              "  </svg>\n",
              "    </button>\n",
              "\n",
              "  <style>\n",
              "    .colab-df-container {\n",
              "      display:flex;\n",
              "      gap: 12px;\n",
              "    }\n",
              "\n",
              "    .colab-df-convert {\n",
              "      background-color: #E8F0FE;\n",
              "      border: none;\n",
              "      border-radius: 50%;\n",
              "      cursor: pointer;\n",
              "      display: none;\n",
              "      fill: #1967D2;\n",
              "      height: 32px;\n",
              "      padding: 0 0 0 0;\n",
              "      width: 32px;\n",
              "    }\n",
              "\n",
              "    .colab-df-convert:hover {\n",
              "      background-color: #E2EBFA;\n",
              "      box-shadow: 0px 1px 2px rgba(60, 64, 67, 0.3), 0px 1px 3px 1px rgba(60, 64, 67, 0.15);\n",
              "      fill: #174EA6;\n",
              "    }\n",
              "\n",
              "    .colab-df-buttons div {\n",
              "      margin-bottom: 4px;\n",
              "    }\n",
              "\n",
              "    [theme=dark] .colab-df-convert {\n",
              "      background-color: #3B4455;\n",
              "      fill: #D2E3FC;\n",
              "    }\n",
              "\n",
              "    [theme=dark] .colab-df-convert:hover {\n",
              "      background-color: #434B5C;\n",
              "      box-shadow: 0px 1px 3px 1px rgba(0, 0, 0, 0.15);\n",
              "      filter: drop-shadow(0px 1px 2px rgba(0, 0, 0, 0.3));\n",
              "      fill: #FFFFFF;\n",
              "    }\n",
              "  </style>\n",
              "\n",
              "    <script>\n",
              "      const buttonEl =\n",
              "        document.querySelector('#df-23a6232b-8b10-43d6-9fd6-f258b89ef4de button.colab-df-convert');\n",
              "      buttonEl.style.display =\n",
              "        google.colab.kernel.accessAllowed ? 'block' : 'none';\n",
              "\n",
              "      async function convertToInteractive(key) {\n",
              "        const element = document.querySelector('#df-23a6232b-8b10-43d6-9fd6-f258b89ef4de');\n",
              "        const dataTable =\n",
              "          await google.colab.kernel.invokeFunction('convertToInteractive',\n",
              "                                                    [key], {});\n",
              "        if (!dataTable) return;\n",
              "\n",
              "        const docLinkHtml = 'Like what you see? Visit the ' +\n",
              "          '<a target=\"_blank\" href=https://colab.research.google.com/notebooks/data_table.ipynb>data table notebook</a>'\n",
              "          + ' to learn more about interactive tables.';\n",
              "        element.innerHTML = '';\n",
              "        dataTable['output_type'] = 'display_data';\n",
              "        await google.colab.output.renderOutput(dataTable, element);\n",
              "        const docLink = document.createElement('div');\n",
              "        docLink.innerHTML = docLinkHtml;\n",
              "        element.appendChild(docLink);\n",
              "      }\n",
              "    </script>\n",
              "  </div>\n",
              "\n",
              "\n",
              "<div id=\"df-92213089-5e91-4ad1-b081-536b9a1730fc\">\n",
              "  <button class=\"colab-df-quickchart\" onclick=\"quickchart('df-92213089-5e91-4ad1-b081-536b9a1730fc')\"\n",
              "            title=\"Suggest charts.\"\n",
              "            style=\"display:none;\">\n",
              "\n",
              "<svg xmlns=\"http://www.w3.org/2000/svg\" height=\"24px\"viewBox=\"0 0 24 24\"\n",
              "     width=\"24px\">\n",
              "    <g>\n",
              "        <path d=\"M19 3H5c-1.1 0-2 .9-2 2v14c0 1.1.9 2 2 2h14c1.1 0 2-.9 2-2V5c0-1.1-.9-2-2-2zM9 17H7v-7h2v7zm4 0h-2V7h2v10zm4 0h-2v-4h2v4z\"/>\n",
              "    </g>\n",
              "</svg>\n",
              "  </button>\n",
              "\n",
              "<style>\n",
              "  .colab-df-quickchart {\n",
              "      --bg-color: #E8F0FE;\n",
              "      --fill-color: #1967D2;\n",
              "      --hover-bg-color: #E2EBFA;\n",
              "      --hover-fill-color: #174EA6;\n",
              "      --disabled-fill-color: #AAA;\n",
              "      --disabled-bg-color: #DDD;\n",
              "  }\n",
              "\n",
              "  [theme=dark] .colab-df-quickchart {\n",
              "      --bg-color: #3B4455;\n",
              "      --fill-color: #D2E3FC;\n",
              "      --hover-bg-color: #434B5C;\n",
              "      --hover-fill-color: #FFFFFF;\n",
              "      --disabled-bg-color: #3B4455;\n",
              "      --disabled-fill-color: #666;\n",
              "  }\n",
              "\n",
              "  .colab-df-quickchart {\n",
              "    background-color: var(--bg-color);\n",
              "    border: none;\n",
              "    border-radius: 50%;\n",
              "    cursor: pointer;\n",
              "    display: none;\n",
              "    fill: var(--fill-color);\n",
              "    height: 32px;\n",
              "    padding: 0;\n",
              "    width: 32px;\n",
              "  }\n",
              "\n",
              "  .colab-df-quickchart:hover {\n",
              "    background-color: var(--hover-bg-color);\n",
              "    box-shadow: 0 1px 2px rgba(60, 64, 67, 0.3), 0 1px 3px 1px rgba(60, 64, 67, 0.15);\n",
              "    fill: var(--button-hover-fill-color);\n",
              "  }\n",
              "\n",
              "  .colab-df-quickchart-complete:disabled,\n",
              "  .colab-df-quickchart-complete:disabled:hover {\n",
              "    background-color: var(--disabled-bg-color);\n",
              "    fill: var(--disabled-fill-color);\n",
              "    box-shadow: none;\n",
              "  }\n",
              "\n",
              "  .colab-df-spinner {\n",
              "    border: 2px solid var(--fill-color);\n",
              "    border-color: transparent;\n",
              "    border-bottom-color: var(--fill-color);\n",
              "    animation:\n",
              "      spin 1s steps(1) infinite;\n",
              "  }\n",
              "\n",
              "  @keyframes spin {\n",
              "    0% {\n",
              "      border-color: transparent;\n",
              "      border-bottom-color: var(--fill-color);\n",
              "      border-left-color: var(--fill-color);\n",
              "    }\n",
              "    20% {\n",
              "      border-color: transparent;\n",
              "      border-left-color: var(--fill-color);\n",
              "      border-top-color: var(--fill-color);\n",
              "    }\n",
              "    30% {\n",
              "      border-color: transparent;\n",
              "      border-left-color: var(--fill-color);\n",
              "      border-top-color: var(--fill-color);\n",
              "      border-right-color: var(--fill-color);\n",
              "    }\n",
              "    40% {\n",
              "      border-color: transparent;\n",
              "      border-right-color: var(--fill-color);\n",
              "      border-top-color: var(--fill-color);\n",
              "    }\n",
              "    60% {\n",
              "      border-color: transparent;\n",
              "      border-right-color: var(--fill-color);\n",
              "    }\n",
              "    80% {\n",
              "      border-color: transparent;\n",
              "      border-right-color: var(--fill-color);\n",
              "      border-bottom-color: var(--fill-color);\n",
              "    }\n",
              "    90% {\n",
              "      border-color: transparent;\n",
              "      border-bottom-color: var(--fill-color);\n",
              "    }\n",
              "  }\n",
              "</style>\n",
              "\n",
              "  <script>\n",
              "    async function quickchart(key) {\n",
              "      const quickchartButtonEl =\n",
              "        document.querySelector('#' + key + ' button');\n",
              "      quickchartButtonEl.disabled = true;  // To prevent multiple clicks.\n",
              "      quickchartButtonEl.classList.add('colab-df-spinner');\n",
              "      try {\n",
              "        const charts = await google.colab.kernel.invokeFunction(\n",
              "            'suggestCharts', [key], {});\n",
              "      } catch (error) {\n",
              "        console.error('Error during call to suggestCharts:', error);\n",
              "      }\n",
              "      quickchartButtonEl.classList.remove('colab-df-spinner');\n",
              "      quickchartButtonEl.classList.add('colab-df-quickchart-complete');\n",
              "    }\n",
              "    (() => {\n",
              "      let quickchartButtonEl =\n",
              "        document.querySelector('#df-92213089-5e91-4ad1-b081-536b9a1730fc button');\n",
              "      quickchartButtonEl.style.display =\n",
              "        google.colab.kernel.accessAllowed ? 'block' : 'none';\n",
              "    })();\n",
              "  </script>\n",
              "</div>\n",
              "    </div>\n",
              "  </div>\n"
            ]
          },
          "metadata": {},
          "execution_count": 3
        }
      ]
    },
    {
      "cell_type": "markdown",
      "source": [
        "# Prepare the data in one-against-the-rest strategy.\n",
        "This can be done by converting the \"Species\" column into 3 binary columns."
      ],
      "metadata": {
        "id": "EJBo0r7832tW"
      }
    },
    {
      "cell_type": "code",
      "source": [
        "dummy_species = pd.get_dummies(df, prefix='species')\n",
        "\n",
        "dummy_species"
      ],
      "metadata": {
        "colab": {
          "base_uri": "https://localhost:8080/",
          "height": 423
        },
        "id": "2oIamerN3DjP",
        "outputId": "24942107-9616-49aa-ad30-bc1ebcb0a530"
      },
      "execution_count": null,
      "outputs": [
        {
          "output_type": "execute_result",
          "data": {
            "text/plain": [
              "     sepal_length  sepal_width  petal_length  petal_width  species_setosa  \\\n",
              "0             5.1          3.5           1.4          0.2               1   \n",
              "1             4.9          3.0           1.4          0.2               1   \n",
              "2             4.7          3.2           1.3          0.2               1   \n",
              "3             4.6          3.1           1.5          0.2               1   \n",
              "4             5.0          3.6           1.4          0.2               1   \n",
              "..            ...          ...           ...          ...             ...   \n",
              "145           6.7          3.0           5.2          2.3               0   \n",
              "146           6.3          2.5           5.0          1.9               0   \n",
              "147           6.5          3.0           5.2          2.0               0   \n",
              "148           6.2          3.4           5.4          2.3               0   \n",
              "149           5.9          3.0           5.1          1.8               0   \n",
              "\n",
              "     species_versicolor  species_virginica  \n",
              "0                     0                  0  \n",
              "1                     0                  0  \n",
              "2                     0                  0  \n",
              "3                     0                  0  \n",
              "4                     0                  0  \n",
              "..                  ...                ...  \n",
              "145                   0                  1  \n",
              "146                   0                  1  \n",
              "147                   0                  1  \n",
              "148                   0                  1  \n",
              "149                   0                  1  \n",
              "\n",
              "[150 rows x 7 columns]"
            ],
            "text/html": [
              "\n",
              "  <div id=\"df-b2489327-f3e1-4d88-9f1b-d69b1eb05220\" class=\"colab-df-container\">\n",
              "    <div>\n",
              "<style scoped>\n",
              "    .dataframe tbody tr th:only-of-type {\n",
              "        vertical-align: middle;\n",
              "    }\n",
              "\n",
              "    .dataframe tbody tr th {\n",
              "        vertical-align: top;\n",
              "    }\n",
              "\n",
              "    .dataframe thead th {\n",
              "        text-align: right;\n",
              "    }\n",
              "</style>\n",
              "<table border=\"1\" class=\"dataframe\">\n",
              "  <thead>\n",
              "    <tr style=\"text-align: right;\">\n",
              "      <th></th>\n",
              "      <th>sepal_length</th>\n",
              "      <th>sepal_width</th>\n",
              "      <th>petal_length</th>\n",
              "      <th>petal_width</th>\n",
              "      <th>species_setosa</th>\n",
              "      <th>species_versicolor</th>\n",
              "      <th>species_virginica</th>\n",
              "    </tr>\n",
              "  </thead>\n",
              "  <tbody>\n",
              "    <tr>\n",
              "      <th>0</th>\n",
              "      <td>5.1</td>\n",
              "      <td>3.5</td>\n",
              "      <td>1.4</td>\n",
              "      <td>0.2</td>\n",
              "      <td>1</td>\n",
              "      <td>0</td>\n",
              "      <td>0</td>\n",
              "    </tr>\n",
              "    <tr>\n",
              "      <th>1</th>\n",
              "      <td>4.9</td>\n",
              "      <td>3.0</td>\n",
              "      <td>1.4</td>\n",
              "      <td>0.2</td>\n",
              "      <td>1</td>\n",
              "      <td>0</td>\n",
              "      <td>0</td>\n",
              "    </tr>\n",
              "    <tr>\n",
              "      <th>2</th>\n",
              "      <td>4.7</td>\n",
              "      <td>3.2</td>\n",
              "      <td>1.3</td>\n",
              "      <td>0.2</td>\n",
              "      <td>1</td>\n",
              "      <td>0</td>\n",
              "      <td>0</td>\n",
              "    </tr>\n",
              "    <tr>\n",
              "      <th>3</th>\n",
              "      <td>4.6</td>\n",
              "      <td>3.1</td>\n",
              "      <td>1.5</td>\n",
              "      <td>0.2</td>\n",
              "      <td>1</td>\n",
              "      <td>0</td>\n",
              "      <td>0</td>\n",
              "    </tr>\n",
              "    <tr>\n",
              "      <th>4</th>\n",
              "      <td>5.0</td>\n",
              "      <td>3.6</td>\n",
              "      <td>1.4</td>\n",
              "      <td>0.2</td>\n",
              "      <td>1</td>\n",
              "      <td>0</td>\n",
              "      <td>0</td>\n",
              "    </tr>\n",
              "    <tr>\n",
              "      <th>...</th>\n",
              "      <td>...</td>\n",
              "      <td>...</td>\n",
              "      <td>...</td>\n",
              "      <td>...</td>\n",
              "      <td>...</td>\n",
              "      <td>...</td>\n",
              "      <td>...</td>\n",
              "    </tr>\n",
              "    <tr>\n",
              "      <th>145</th>\n",
              "      <td>6.7</td>\n",
              "      <td>3.0</td>\n",
              "      <td>5.2</td>\n",
              "      <td>2.3</td>\n",
              "      <td>0</td>\n",
              "      <td>0</td>\n",
              "      <td>1</td>\n",
              "    </tr>\n",
              "    <tr>\n",
              "      <th>146</th>\n",
              "      <td>6.3</td>\n",
              "      <td>2.5</td>\n",
              "      <td>5.0</td>\n",
              "      <td>1.9</td>\n",
              "      <td>0</td>\n",
              "      <td>0</td>\n",
              "      <td>1</td>\n",
              "    </tr>\n",
              "    <tr>\n",
              "      <th>147</th>\n",
              "      <td>6.5</td>\n",
              "      <td>3.0</td>\n",
              "      <td>5.2</td>\n",
              "      <td>2.0</td>\n",
              "      <td>0</td>\n",
              "      <td>0</td>\n",
              "      <td>1</td>\n",
              "    </tr>\n",
              "    <tr>\n",
              "      <th>148</th>\n",
              "      <td>6.2</td>\n",
              "      <td>3.4</td>\n",
              "      <td>5.4</td>\n",
              "      <td>2.3</td>\n",
              "      <td>0</td>\n",
              "      <td>0</td>\n",
              "      <td>1</td>\n",
              "    </tr>\n",
              "    <tr>\n",
              "      <th>149</th>\n",
              "      <td>5.9</td>\n",
              "      <td>3.0</td>\n",
              "      <td>5.1</td>\n",
              "      <td>1.8</td>\n",
              "      <td>0</td>\n",
              "      <td>0</td>\n",
              "      <td>1</td>\n",
              "    </tr>\n",
              "  </tbody>\n",
              "</table>\n",
              "<p>150 rows × 7 columns</p>\n",
              "</div>\n",
              "    <div class=\"colab-df-buttons\">\n",
              "\n",
              "  <div class=\"colab-df-container\">\n",
              "    <button class=\"colab-df-convert\" onclick=\"convertToInteractive('df-b2489327-f3e1-4d88-9f1b-d69b1eb05220')\"\n",
              "            title=\"Convert this dataframe to an interactive table.\"\n",
              "            style=\"display:none;\">\n",
              "\n",
              "  <svg xmlns=\"http://www.w3.org/2000/svg\" height=\"24px\" viewBox=\"0 -960 960 960\">\n",
              "    <path d=\"M120-120v-720h720v720H120Zm60-500h600v-160H180v160Zm220 220h160v-160H400v160Zm0 220h160v-160H400v160ZM180-400h160v-160H180v160Zm440 0h160v-160H620v160ZM180-180h160v-160H180v160Zm440 0h160v-160H620v160Z\"/>\n",
              "  </svg>\n",
              "    </button>\n",
              "\n",
              "  <style>\n",
              "    .colab-df-container {\n",
              "      display:flex;\n",
              "      gap: 12px;\n",
              "    }\n",
              "\n",
              "    .colab-df-convert {\n",
              "      background-color: #E8F0FE;\n",
              "      border: none;\n",
              "      border-radius: 50%;\n",
              "      cursor: pointer;\n",
              "      display: none;\n",
              "      fill: #1967D2;\n",
              "      height: 32px;\n",
              "      padding: 0 0 0 0;\n",
              "      width: 32px;\n",
              "    }\n",
              "\n",
              "    .colab-df-convert:hover {\n",
              "      background-color: #E2EBFA;\n",
              "      box-shadow: 0px 1px 2px rgba(60, 64, 67, 0.3), 0px 1px 3px 1px rgba(60, 64, 67, 0.15);\n",
              "      fill: #174EA6;\n",
              "    }\n",
              "\n",
              "    .colab-df-buttons div {\n",
              "      margin-bottom: 4px;\n",
              "    }\n",
              "\n",
              "    [theme=dark] .colab-df-convert {\n",
              "      background-color: #3B4455;\n",
              "      fill: #D2E3FC;\n",
              "    }\n",
              "\n",
              "    [theme=dark] .colab-df-convert:hover {\n",
              "      background-color: #434B5C;\n",
              "      box-shadow: 0px 1px 3px 1px rgba(0, 0, 0, 0.15);\n",
              "      filter: drop-shadow(0px 1px 2px rgba(0, 0, 0, 0.3));\n",
              "      fill: #FFFFFF;\n",
              "    }\n",
              "  </style>\n",
              "\n",
              "    <script>\n",
              "      const buttonEl =\n",
              "        document.querySelector('#df-b2489327-f3e1-4d88-9f1b-d69b1eb05220 button.colab-df-convert');\n",
              "      buttonEl.style.display =\n",
              "        google.colab.kernel.accessAllowed ? 'block' : 'none';\n",
              "\n",
              "      async function convertToInteractive(key) {\n",
              "        const element = document.querySelector('#df-b2489327-f3e1-4d88-9f1b-d69b1eb05220');\n",
              "        const dataTable =\n",
              "          await google.colab.kernel.invokeFunction('convertToInteractive',\n",
              "                                                    [key], {});\n",
              "        if (!dataTable) return;\n",
              "\n",
              "        const docLinkHtml = 'Like what you see? Visit the ' +\n",
              "          '<a target=\"_blank\" href=https://colab.research.google.com/notebooks/data_table.ipynb>data table notebook</a>'\n",
              "          + ' to learn more about interactive tables.';\n",
              "        element.innerHTML = '';\n",
              "        dataTable['output_type'] = 'display_data';\n",
              "        await google.colab.output.renderOutput(dataTable, element);\n",
              "        const docLink = document.createElement('div');\n",
              "        docLink.innerHTML = docLinkHtml;\n",
              "        element.appendChild(docLink);\n",
              "      }\n",
              "    </script>\n",
              "  </div>\n",
              "\n",
              "\n",
              "<div id=\"df-c5e20c07-1d0f-4144-9b51-8aa455780610\">\n",
              "  <button class=\"colab-df-quickchart\" onclick=\"quickchart('df-c5e20c07-1d0f-4144-9b51-8aa455780610')\"\n",
              "            title=\"Suggest charts.\"\n",
              "            style=\"display:none;\">\n",
              "\n",
              "<svg xmlns=\"http://www.w3.org/2000/svg\" height=\"24px\"viewBox=\"0 0 24 24\"\n",
              "     width=\"24px\">\n",
              "    <g>\n",
              "        <path d=\"M19 3H5c-1.1 0-2 .9-2 2v14c0 1.1.9 2 2 2h14c1.1 0 2-.9 2-2V5c0-1.1-.9-2-2-2zM9 17H7v-7h2v7zm4 0h-2V7h2v10zm4 0h-2v-4h2v4z\"/>\n",
              "    </g>\n",
              "</svg>\n",
              "  </button>\n",
              "\n",
              "<style>\n",
              "  .colab-df-quickchart {\n",
              "      --bg-color: #E8F0FE;\n",
              "      --fill-color: #1967D2;\n",
              "      --hover-bg-color: #E2EBFA;\n",
              "      --hover-fill-color: #174EA6;\n",
              "      --disabled-fill-color: #AAA;\n",
              "      --disabled-bg-color: #DDD;\n",
              "  }\n",
              "\n",
              "  [theme=dark] .colab-df-quickchart {\n",
              "      --bg-color: #3B4455;\n",
              "      --fill-color: #D2E3FC;\n",
              "      --hover-bg-color: #434B5C;\n",
              "      --hover-fill-color: #FFFFFF;\n",
              "      --disabled-bg-color: #3B4455;\n",
              "      --disabled-fill-color: #666;\n",
              "  }\n",
              "\n",
              "  .colab-df-quickchart {\n",
              "    background-color: var(--bg-color);\n",
              "    border: none;\n",
              "    border-radius: 50%;\n",
              "    cursor: pointer;\n",
              "    display: none;\n",
              "    fill: var(--fill-color);\n",
              "    height: 32px;\n",
              "    padding: 0;\n",
              "    width: 32px;\n",
              "  }\n",
              "\n",
              "  .colab-df-quickchart:hover {\n",
              "    background-color: var(--hover-bg-color);\n",
              "    box-shadow: 0 1px 2px rgba(60, 64, 67, 0.3), 0 1px 3px 1px rgba(60, 64, 67, 0.15);\n",
              "    fill: var(--button-hover-fill-color);\n",
              "  }\n",
              "\n",
              "  .colab-df-quickchart-complete:disabled,\n",
              "  .colab-df-quickchart-complete:disabled:hover {\n",
              "    background-color: var(--disabled-bg-color);\n",
              "    fill: var(--disabled-fill-color);\n",
              "    box-shadow: none;\n",
              "  }\n",
              "\n",
              "  .colab-df-spinner {\n",
              "    border: 2px solid var(--fill-color);\n",
              "    border-color: transparent;\n",
              "    border-bottom-color: var(--fill-color);\n",
              "    animation:\n",
              "      spin 1s steps(1) infinite;\n",
              "  }\n",
              "\n",
              "  @keyframes spin {\n",
              "    0% {\n",
              "      border-color: transparent;\n",
              "      border-bottom-color: var(--fill-color);\n",
              "      border-left-color: var(--fill-color);\n",
              "    }\n",
              "    20% {\n",
              "      border-color: transparent;\n",
              "      border-left-color: var(--fill-color);\n",
              "      border-top-color: var(--fill-color);\n",
              "    }\n",
              "    30% {\n",
              "      border-color: transparent;\n",
              "      border-left-color: var(--fill-color);\n",
              "      border-top-color: var(--fill-color);\n",
              "      border-right-color: var(--fill-color);\n",
              "    }\n",
              "    40% {\n",
              "      border-color: transparent;\n",
              "      border-right-color: var(--fill-color);\n",
              "      border-top-color: var(--fill-color);\n",
              "    }\n",
              "    60% {\n",
              "      border-color: transparent;\n",
              "      border-right-color: var(--fill-color);\n",
              "    }\n",
              "    80% {\n",
              "      border-color: transparent;\n",
              "      border-right-color: var(--fill-color);\n",
              "      border-bottom-color: var(--fill-color);\n",
              "    }\n",
              "    90% {\n",
              "      border-color: transparent;\n",
              "      border-bottom-color: var(--fill-color);\n",
              "    }\n",
              "  }\n",
              "</style>\n",
              "\n",
              "  <script>\n",
              "    async function quickchart(key) {\n",
              "      const quickchartButtonEl =\n",
              "        document.querySelector('#' + key + ' button');\n",
              "      quickchartButtonEl.disabled = true;  // To prevent multiple clicks.\n",
              "      quickchartButtonEl.classList.add('colab-df-spinner');\n",
              "      try {\n",
              "        const charts = await google.colab.kernel.invokeFunction(\n",
              "            'suggestCharts', [key], {});\n",
              "      } catch (error) {\n",
              "        console.error('Error during call to suggestCharts:', error);\n",
              "      }\n",
              "      quickchartButtonEl.classList.remove('colab-df-spinner');\n",
              "      quickchartButtonEl.classList.add('colab-df-quickchart-complete');\n",
              "    }\n",
              "    (() => {\n",
              "      let quickchartButtonEl =\n",
              "        document.querySelector('#df-c5e20c07-1d0f-4144-9b51-8aa455780610 button');\n",
              "      quickchartButtonEl.style.display =\n",
              "        google.colab.kernel.accessAllowed ? 'block' : 'none';\n",
              "    })();\n",
              "  </script>\n",
              "</div>\n",
              "    </div>\n",
              "  </div>\n"
            ]
          },
          "metadata": {},
          "execution_count": 4
        }
      ]
    },
    {
      "cell_type": "code",
      "source": [
        "X = dummy_species.drop(columns=['species_setosa', 'species_versicolor','species_virginica'])\n",
        "y = dummy_species.iloc[:,4:]"
      ],
      "metadata": {
        "id": "9acFaPKAd0EP"
      },
      "execution_count": null,
      "outputs": []
    },
    {
      "cell_type": "code",
      "source": [
        "X['constant'] = 1"
      ],
      "metadata": {
        "id": "ypz9rCY6i9c0"
      },
      "execution_count": null,
      "outputs": []
    },
    {
      "cell_type": "code",
      "source": [
        "theta = np.ones(X.shape[1])"
      ],
      "metadata": {
        "id": "Cmdetz7qjMyB"
      },
      "execution_count": null,
      "outputs": []
    },
    {
      "cell_type": "markdown",
      "source": [
        "# Formulate the error function of the logistic regression with ridge regularization criterion."
      ],
      "metadata": {
        "id": "Ku9yb3PZ4F-A"
      }
    },
    {
      "cell_type": "markdown",
      "source": [
        "\\begin{equation}\n",
        "L(w) = -\\frac{1}{N}\\sum_{i=1}^{N} [y_i \\log(\\hat{y}_i) + (1 - y_i) \\log(1 - \\hat{y}_i)] + \\frac{2\\lambda}{N} \\sum_{j=1}^{n} w_j^2\n",
        "\\end{equation}\n"
      ],
      "metadata": {
        "id": "0pwcKg2p2p4c"
      }
    },
    {
      "cell_type": "code",
      "source": [
        "def hypothesis(theta, X):\n",
        "    return 1 / (1 + np.exp(-(np.dot(theta, X.T)))) - 0.0000001\n",
        "\n",
        "def cost(X, y, theta, lambda_reg):\n",
        "    y1 = hypothesis(X, theta)\n",
        "\n",
        "    # Add a small constant to avoid taking the logarithm of zero or negative values\n",
        "    epsilon = 1e-10\n",
        "    y1 = np.clip(y1, epsilon, 1 - epsilon)\n",
        "\n",
        "    # Calculate the cost without regularization\n",
        "    cost_without_reg = -(1/len(X)) * np.sum(y * np.log(y1) + (1-y) * np.log(1-y1))\n",
        "\n",
        "    # Calculate the regularization term\n",
        "    regularization_term = (lambda_reg / (2 * len(X))) * np.sum(theta[1:]**2)  # Exclude theta0\n",
        "\n",
        "    # Add the regularization term to the cost\n",
        "    cost_with_reg = cost_without_reg + regularization_term\n",
        "\n",
        "    return cost_with_reg\n",
        "\n"
      ],
      "metadata": {
        "id": "-x1tL9up4FOG"
      },
      "execution_count": null,
      "outputs": []
    },
    {
      "cell_type": "markdown",
      "source": [
        "# Derive the gradient of the error function by deriving the partial  derivative of the error function in Task 2"
      ],
      "metadata": {
        "id": "Qkfw99UZ5LaC"
      }
    },
    {
      "cell_type": "markdown",
      "source": [
        "\\begin{align*}\n",
        "\\text{Step 1:} &\\quad L(w) = -\\frac{1}{N}\\sum_{i=1}^{N} [y_i \\log(\\hat{y}_i) + (1 - y_i) \\log(1 - \\hat{y}_i)] + \\frac{2\\lambda}{N} \\sum_{j=1}^{n} w_j^2 \\\\\n",
        "\\text{Step 2:} &\\quad \\frac{\\partial}{\\partial w_j} \\left(-\\frac{1}{N}\\sum_{i=1}^{N} [y_i \\log(\\hat{y}_i) + (1 - y_i) \\log(1 - \\hat{y}_i)]\\right) \\\\\n",
        "\\text{Step 3:} &\\quad -\\frac{1}{N}\\sum_{i=1}^{N} \\frac{\\partial}{\\partial w_j} [y_i \\log(\\hat{y}_i) + (1 - y_i) \\log(1 - \\hat{y}_i)] \\\\\n",
        "\\text{Step 4:} &\\quad -\\frac{1}{N}\\sum_{i=1}^{N} \\left[y_i \\frac{1}{\\hat{y}_i} \\frac{\\partial \\hat{y}_i}{\\partial w_j} - (1 - y_i) \\frac{1}{1 - \\hat{y}_i} \\frac{\\partial \\hat{y}_i}{\\partial w_j}\\right] \\\\\n",
        "\\text{Step 5:} &\\quad \\frac{\\partial L}{\\partial w_j} = -\\frac{1}{N}\\sum_{i=1}^{N} \\left[y_i \\left(\\frac{1}{\\hat{y}_i}\\frac{\\partial \\hat{y}_i}{\\partial w_j}\\right) - (1 - y_i)\\left(\\frac{1}{1 - \\hat{y}_i}\\frac{\\partial \\hat{y}_i}{\\partial w_j}\\right)\\right] + \\frac{4\\lambda}{N} w_j \\\\\n",
        "\\text{Step 6:} &\\quad \\frac{\\partial L}{\\partial w_j} = -\\frac{1}{N}\\sum_{i=1}^{N} \\left[\\frac{y_i}{\\hat{y}_i} \\frac{\\partial \\hat{y}_i}{\\partial w_j} - \\frac{1 - y_i}{1 - \\hat{y}_i} \\frac{\\partial \\hat{y}_i}{\\partial w_j}\\right] + \\frac{4\\lambda}{N} w_j \\\\\n",
        "\\text{Step 7:} &\\quad \\frac{\\partial L}{\\partial w_j} = -\\frac{1}{N}\\sum_{i=1}^{N} \\left[\\frac{y_i - y_i \\hat{y}_i - \\hat{y}_i + y_i \\hat{y}_i}{\\hat{y}_i(1 - \\hat{y}_i)} \\frac{\\partial \\hat{y}_i}{\\partial w_j}\\right] + \\frac{4\\lambda}{N} w_j \\\\\n",
        "\\text{Step 8:} &\\quad \\frac{\\partial L}{\\partial w_j} = -\\frac{1}{N}\\sum_{i=1}^{N} \\left[\\frac{y_i - \\hat{y}_i}{\\hat{y}_i(1 - \\hat{y}_i)} \\frac{\\partial \\hat{y}_i}{\\partial w_j}\\right] + \\frac{4\\lambda}{N} w_j \\\\\n",
        "\\text{Step 9:} &\\quad \\frac{\\partial L}{\\partial w_j} = -\\frac{1}{N}\\sum_{i=1}^{N} \\left[\\frac{y_i - \\hat{y}_i}{\\hat{y}_i(1 - \\hat{y}_i)}\\right] \\frac{\\partial \\hat{y}_i}{\\partial w_j} + \\frac{4\\lambda}{N} w_j \\\\\n",
        "\\text{Step 10:} &\\quad \\frac{\\partial L}{\\partial w_j} = -\\frac{1}{N}\\sum_{i=1}^{N} \\left[\\frac{y_i}{\\hat{y}_i} - 1\\right] \\frac{\\partial \\hat{y}_i}{\\partial w_j} + \\frac{4\\lambda}{N} w_j \\\\\n",
        "\\text{Step 11:} &\\quad \\frac{\\partial L}{\\partial w_j} = -\\frac{1}{N}\\sum_{i=1}^{N} \\left[\\frac{y_i}{\\hat{y}_i} - 1\\right] x_{ij} + \\frac{4\\lambda}{N} w_j \\\\\n",
        "\\text{Step 12:} &\\quad \\frac{\\partial L}{\\partial w_j} = -\\frac{1}{N}\\sum_{i=1}^{N} \\left[\\frac{y_i - \\hat{y}_i}{\\hat{y}_i} \\right] x_{ij} + \\frac{4\\lambda}{N} w_j \\\\\n",
        "\\text{Step 13:} &\\quad \\frac{\\partial L}{\\partial w_j} = -\\frac{1}{N}\\sum_{i=1}^{N} \\left[y_i - \\hat{y}_i \\right] x_{ij} + \\frac{4\\lambda}{N} w_j \\\\\n",
        "\\end{align*}\n",
        "\n"
      ],
      "metadata": {
        "id": "dfRN7lHS7FfU"
      }
    },
    {
      "cell_type": "code",
      "source": [
        "def gradient(X, y, theta, lambda_reg):\n",
        "    m = len(X)\n",
        "    h = hypothesis(X, theta)\n",
        "\n",
        "    # Compute the gradient without regularization\n",
        "    grad = (1/m) * np.dot(X.T, (h - y))\n",
        "\n",
        "    # Compute the regularization term gradient (excluding theta0)\n",
        "    reg_term = (4 * lambda_reg / m) * theta[1:]\n",
        "\n",
        "    # Add the regularization term to the gradient\n",
        "    grad[1:] += reg_term\n",
        "\n",
        "    return grad\n"
      ],
      "metadata": {
        "id": "MBm0Ykjr5Plv"
      },
      "execution_count": null,
      "outputs": []
    },
    {
      "cell_type": "markdown",
      "source": [
        "# Implement the gradient descent using all of the dataset in each iteration. (Use equation from Task 3)"
      ],
      "metadata": {
        "id": "GtkzoJcLajLG"
      }
    },
    {
      "cell_type": "code",
      "source": [
        "theta = pd.DataFrame(theta)"
      ],
      "metadata": {
        "id": "-kCvibPyjZ3Q"
      },
      "execution_count": null,
      "outputs": []
    },
    {
      "cell_type": "code",
      "source": [
        "def gradient_descent(X, y, theta, alpha, epochs, lambda_reg):\n",
        "    m = len(X)\n",
        "    num_labels = y.shape[1]  # Number of label columns\n",
        "    loss_history = []\n",
        "\n",
        "    for i in range(0, epochs):\n",
        "        for j in range(0, num_labels):\n",
        "            theta = pd.DataFrame(theta)\n",
        "            h = hypothesis(X, theta.iloc[:, j])\n",
        "\n",
        "            # Calculate the gradient using the gradient function\n",
        "            grad = gradient(X, y.iloc[:, j], theta.iloc[:, j], lambda_reg)\n",
        "\n",
        "            # Update theta for the current label column\n",
        "            theta.iloc[:, j] -= alpha * grad\n",
        "\n",
        "            c = cost(X, y.iloc[:, j], theta.iloc[:, j], lambda_reg)\n",
        "            sum = 0\n",
        "            sum += c\n",
        "\n",
        "        c = sum / num_labels\n",
        "        loss_history.append(c)\n",
        "        if i % 100 == 0:\n",
        "            print(f\"Epoch {i}, Loss: {c}\")\n",
        "\n",
        "    return theta, loss_history\n"
      ],
      "metadata": {
        "id": "HET1WwkMCM31"
      },
      "execution_count": null,
      "outputs": []
    },
    {
      "cell_type": "code",
      "source": [
        "theta = np.zeros([X.shape[1], y.shape[1]])\n",
        "theta = gradient_descent(X, y, theta, 0.1, 1000, 1)"
      ],
      "metadata": {
        "colab": {
          "base_uri": "https://localhost:8080/"
        },
        "id": "2ZCgvbLdjhID",
        "outputId": "4a08d62a-7114-490a-8720-f2b986fecae8"
      },
      "execution_count": null,
      "outputs": [
        {
          "output_type": "stream",
          "name": "stdout",
          "text": [
            "Epoch 0, Loss: 0.2180033188009083\n",
            "Epoch 100, Loss: 0.10240223270491616\n",
            "Epoch 200, Loss: 0.09074505831927099\n",
            "Epoch 300, Loss: 0.08572562125489473\n",
            "Epoch 400, Loss: 0.08307590728805621\n",
            "Epoch 500, Loss: 0.08154651987685792\n",
            "Epoch 600, Loss: 0.08061650432316676\n",
            "Epoch 700, Loss: 0.08003059078943546\n",
            "Epoch 800, Loss: 0.0796514628668663\n",
            "Epoch 900, Loss: 0.07940069455981542\n"
          ]
        }
      ]
    },
    {
      "cell_type": "markdown",
      "source": [
        "# Implement the stochastic gradient descent using the subset of dataset in each iteration. (Use equation from Task 3)"
      ],
      "metadata": {
        "id": "0WG4hPmoa8h6"
      }
    },
    {
      "cell_type": "code",
      "source": [
        "import random\n",
        "\n",
        "def sgd_gradient_descent(X, y, theta, alpha, epochs, lambda_reg):\n",
        "    m = len(X)\n",
        "    num_labels = y.shape[1]  # Number of label columns\n",
        "    loss_history = []\n",
        "\n",
        "    for i in range(0, epochs):\n",
        "        random_index = random.randint(0, X.shape[0] - 1)\n",
        "        sample_x = X.iloc[random_index].values\n",
        "        sample_y = y.iloc[random_index].values\n",
        "        for j in range(0, num_labels):\n",
        "            h = hypothesis(sample_x, theta[:, j])\n",
        "\n",
        "            # Compute the gradient without regularization\n",
        "            grad = (1/m) * np.dot(sample_x.T, (h - sample_y[j]))\n",
        "\n",
        "            # Compute the regularization term gradient (excluding theta0)\n",
        "            reg_term = (4 * lambda_reg / m) * theta[1:, j]\n",
        "\n",
        "            # Add the regularization term to the gradient\n",
        "            grad[1:] += reg_term\n",
        "\n",
        "            # Update theta for the current label column\n",
        "            theta[:, j] -= alpha * grad\n",
        "\n",
        "            c = cost(X, y.iloc[:, j], theta[:, j], lambda_reg)\n",
        "            sum = 0\n",
        "            sum += c\n",
        "\n",
        "        c = sum / num_labels\n",
        "        loss_history.append(c)\n",
        "\n",
        "        if i % 100 == 0:\n",
        "            print(f\"Epoch {i}, Loss: {c}\")\n",
        "\n",
        "    return theta, loss_history\n"
      ],
      "metadata": {
        "id": "QEtPe08la_5k"
      },
      "execution_count": null,
      "outputs": []
    },
    {
      "cell_type": "code",
      "source": [
        "theta = np.zeros([X.shape[1], y.shape[1]])\n",
        "theta = sgd_gradient_descent(X, y, theta, 0.1, 1000, 0.05)"
      ],
      "metadata": {
        "colab": {
          "base_uri": "https://localhost:8080/"
        },
        "id": "NRj-pD08j6xn",
        "outputId": "111ae7b2-0962-4e80-ca8d-d6343ec3da1f"
      },
      "execution_count": null,
      "outputs": [
        {
          "output_type": "stream",
          "name": "stdout",
          "text": [
            "Epoch 0, Loss: 0.2303257475786876\n",
            "Epoch 100, Loss: 0.21923596347829818\n",
            "Epoch 200, Loss: 0.21488867233187947\n",
            "Epoch 300, Loss: 0.21005431749126843\n",
            "Epoch 400, Loss: 0.20728776120551237\n",
            "Epoch 500, Loss: 0.20259520454256966\n",
            "Epoch 600, Loss: 0.19959851315365437\n",
            "Epoch 700, Loss: 0.19734408736213258\n",
            "Epoch 800, Loss: 0.19122561380705638\n",
            "Epoch 900, Loss: 0.18814024993501385\n"
          ]
        }
      ]
    },
    {
      "cell_type": "markdown",
      "source": [
        "# Test to see the effect of λ on the training process.\n"
      ],
      "metadata": {
        "id": "7Kg-9ziSbn6u"
      }
    },
    {
      "cell_type": "code",
      "source": [
        "# Training with lambda = 0.01\n",
        "theta_1 = np.zeros([X.shape[1], y.shape[1]])\n",
        "theta_1, loss_history_1 = gradient_descent(X, y, theta_1, 0.1, 1000, 0.01)\n"
      ],
      "metadata": {
        "id": "xZ08nK11brpn",
        "colab": {
          "base_uri": "https://localhost:8080/"
        },
        "outputId": "1ea07611-cd0d-4eb3-b705-73112087048a"
      },
      "execution_count": null,
      "outputs": [
        {
          "output_type": "stream",
          "name": "stdout",
          "text": [
            "Epoch 0, Loss: 0.21799978434724399\n",
            "Epoch 100, Loss: 0.0951582460216973\n",
            "Epoch 200, Loss: 0.0774006917258802\n",
            "Epoch 300, Loss: 0.0673423722089127\n",
            "Epoch 400, Loss: 0.0605856112127602\n",
            "Epoch 500, Loss: 0.05568230163955056\n",
            "Epoch 600, Loss: 0.05194533785891592\n",
            "Epoch 700, Loss: 0.04899485788256954\n",
            "Epoch 800, Loss: 0.046601385687641945\n",
            "Epoch 900, Loss: 0.044617516144778796\n"
          ]
        }
      ]
    },
    {
      "cell_type": "code",
      "source": [
        "# Training with lambda = 0.1\n",
        "theta_2 = np.zeros([X.shape[1], y.shape[1]])\n",
        "theta_2, loss_history_2 = gradient_descent(X, y, theta_2, 0.1, 1000, 0.1)\n"
      ],
      "metadata": {
        "colab": {
          "base_uri": "https://localhost:8080/"
        },
        "id": "zmFZfW4PKjt6",
        "outputId": "d8c13b82-5623-426b-efef-796e3390fb7c"
      },
      "execution_count": null,
      "outputs": [
        {
          "output_type": "stream",
          "name": "stdout",
          "text": [
            "Epoch 0, Loss: 0.2180001056612135\n",
            "Epoch 100, Loss: 0.09587765009333632\n",
            "Epoch 200, Loss: 0.07883506754093637\n",
            "Epoch 300, Loss: 0.0694425296109895\n",
            "Epoch 400, Loss: 0.06328570467144047\n",
            "Epoch 500, Loss: 0.05892254608092493\n",
            "Epoch 600, Loss: 0.055675502950914536\n",
            "Epoch 700, Loss: 0.05317311513882244\n",
            "Epoch 800, Loss: 0.0511925725502533\n",
            "Epoch 900, Loss: 0.049591669263061154\n"
          ]
        }
      ]
    },
    {
      "cell_type": "code",
      "source": [
        "# Training with lambda = 1\n",
        "theta_3 = np.zeros([X.shape[1], y.shape[1]])\n",
        "theta_3, loss_history_3 = gradient_descent(X, y, theta_3, 0.1, 1000, 1)\n"
      ],
      "metadata": {
        "colab": {
          "base_uri": "https://localhost:8080/"
        },
        "id": "tQHVuB9ANJsq",
        "outputId": "69ab5c51-23c1-45a8-8785-2988e77c3b95"
      },
      "execution_count": null,
      "outputs": [
        {
          "output_type": "stream",
          "name": "stdout",
          "text": [
            "Epoch 0, Loss: 0.2180033188009083\n",
            "Epoch 100, Loss: 0.10240223270491616\n",
            "Epoch 200, Loss: 0.09074505831927099\n",
            "Epoch 300, Loss: 0.08572562125489473\n",
            "Epoch 400, Loss: 0.08307590728805621\n",
            "Epoch 500, Loss: 0.08154651987685792\n",
            "Epoch 600, Loss: 0.08061650432316676\n",
            "Epoch 700, Loss: 0.08003059078943546\n",
            "Epoch 800, Loss: 0.0796514628668663\n",
            "Epoch 900, Loss: 0.07940069455981542\n"
          ]
        }
      ]
    },
    {
      "cell_type": "code",
      "source": [
        "# Training with lambda = 10\n",
        "theta_4 = np.zeros([X.shape[1], y.shape[1]])\n",
        "theta_4, loss_history_4 = gradient_descent(X, y, theta_4, 0.1, 1000, 10)\n"
      ],
      "metadata": {
        "colab": {
          "base_uri": "https://localhost:8080/"
        },
        "id": "YFQzHgW3NPKR",
        "outputId": "53a24314-cb4c-4fa5-bbd8-74e0c120d58a"
      },
      "execution_count": null,
      "outputs": [
        {
          "output_type": "stream",
          "name": "stdout",
          "text": [
            "Epoch 0, Loss: 0.21803545019785683\n",
            "Epoch 100, Loss: 0.13786595040231636\n",
            "Epoch 200, Loss: 0.1367644673393193\n",
            "Epoch 300, Loss: 0.13661301565828748\n",
            "Epoch 400, Loss: 0.1365868354008423\n",
            "Epoch 500, Loss: 0.13658219289875503\n",
            "Epoch 600, Loss: 0.13658136558823394\n",
            "Epoch 700, Loss: 0.13658121796085085\n",
            "Epoch 800, Loss: 0.13658119160695356\n",
            "Epoch 900, Loss: 0.13658118690172097\n"
          ]
        }
      ]
    },
    {
      "cell_type": "code",
      "source": [
        "# Plot the loss history for both cases\n",
        "plt.figure(figsize=(10, 6))\n",
        "sns.lineplot(x=range(len(loss_history_1)), y=loss_history_1, label='Lambda = 0.01')\n",
        "sns.lineplot(x=range(len(loss_history_2)), y=loss_history_2, label='Lambda = 0.1')\n",
        "sns.lineplot(x=range(len(loss_history_3)), y=loss_history_3, label='Lambda = 1')\n",
        "sns.lineplot(x=range(len(loss_history_4)), y=loss_history_4, label='Lambda = 10')\n",
        "plt.xlabel('Epoch')\n",
        "plt.ylabel('Loss')\n",
        "plt.title('Effect of Lambda on Loss During Training')\n",
        "plt.legend()\n",
        "plt.show()\n"
      ],
      "metadata": {
        "colab": {
          "base_uri": "https://localhost:8080/",
          "height": 564
        },
        "id": "iOq3D64kKmKq",
        "outputId": "e95f8903-62c4-43bd-cd45-214cac888fe1"
      },
      "execution_count": null,
      "outputs": [
        {
          "output_type": "display_data",
          "data": {
            "text/plain": [
              "<Figure size 1000x600 with 1 Axes>"
            ],
            "image/png": "[encoded data removed]"
          },
          "metadata": {}
        }
      ]
    },
    {
      "cell_type": "markdown",
      "source": [
        "# Test to see the effect of sampling proportion in Task 5"
      ],
      "metadata": {
        "id": "N4kmrUnRbr56"
      }
    },
    {
      "cell_type": "code",
      "source": [
        "theta_1 = np.zeros([X.shape[1], y.shape[1]])\n",
        "theta_1, loss_history_1 = gradient_descent(X, y, theta_1, 0.1, 1000, 0.01)"
      ],
      "metadata": {
        "id": "WQuq1rpCbugE",
        "colab": {
          "base_uri": "https://localhost:8080/"
        },
        "outputId": "5d41c074-58e8-433e-fe10-9a6fd8c2158b"
      },
      "execution_count": null,
      "outputs": [
        {
          "output_type": "stream",
          "name": "stdout",
          "text": [
            "Epoch 0, Loss: 0.21799978434724399\n",
            "Epoch 100, Loss: 0.0951582460216973\n",
            "Epoch 200, Loss: 0.0774006917258802\n",
            "Epoch 300, Loss: 0.0673423722089127\n",
            "Epoch 400, Loss: 0.0605856112127602\n",
            "Epoch 500, Loss: 0.05568230163955056\n",
            "Epoch 600, Loss: 0.05194533785891592\n",
            "Epoch 700, Loss: 0.04899485788256954\n",
            "Epoch 800, Loss: 0.046601385687641945\n",
            "Epoch 900, Loss: 0.044617516144778796\n"
          ]
        }
      ]
    },
    {
      "cell_type": "code",
      "source": [
        "theta_2 = np.zeros([X.shape[1], y.shape[1]])\n",
        "theta_2, loss_history_2 = sgd_gradient_descent(X, y, theta_2, 0.1, 1000, 0.01)"
      ],
      "metadata": {
        "colab": {
          "base_uri": "https://localhost:8080/"
        },
        "id": "IPM3ejmFP_2D",
        "outputId": "7508e326-e5f6-4207-9aa5-a7ce2daba7b1"
      },
      "execution_count": null,
      "outputs": [
        {
          "output_type": "stream",
          "name": "stdout",
          "text": [
            "Epoch 0, Loss: 0.23037754595183865\n",
            "Epoch 100, Loss: 0.21969495215012114\n",
            "Epoch 200, Loss: 0.21541726639728973\n",
            "Epoch 300, Loss: 0.21032563718617156\n",
            "Epoch 400, Loss: 0.20457122665590197\n",
            "Epoch 500, Loss: 0.19962256466826556\n",
            "Epoch 600, Loss: 0.19572347622475053\n",
            "Epoch 700, Loss: 0.19253924798091748\n",
            "Epoch 800, Loss: 0.18844527468578012\n",
            "Epoch 900, Loss: 0.1861454236374742\n"
          ]
        }
      ]
    },
    {
      "cell_type": "code",
      "source": [
        "# Plot the loss history for both cases\n",
        "plt.figure(figsize=(12, 6))\n",
        "sns.lineplot(x=range(len(loss_history_1)), y=loss_history_1, label='Batch')\n",
        "sns.lineplot(x=range(len(loss_history_2)), y=loss_history_2, label='SGD')\n",
        "\n",
        "plt.xlabel('Epoch')\n",
        "plt.ylabel('Loss')\n",
        "plt.title('Test to see the effect of sampling proportion')\n",
        "plt.legend()\n",
        "plt.show()\n"
      ],
      "metadata": {
        "colab": {
          "base_uri": "https://localhost:8080/",
          "height": 564
        },
        "id": "pM_RErprQaII",
        "outputId": "ed47320b-f175-4f2b-b17b-062e4ac23f96"
      },
      "execution_count": null,
      "outputs": [
        {
          "output_type": "display_data",
          "data": {
            "text/plain": [
              "<Figure size 1200x600 with 1 Axes>"
            ],
            "image/png": "[encoded data removed]"
          },
          "metadata": {}
        }
      ]
    }
  ]
}